{
 "cells": [
  {
   "cell_type": "code",
   "execution_count": null,
   "id": "a8de49c9",
   "metadata": {},
   "outputs": [],
   "source": []
  },
  {
   "attachments": {},
   "cell_type": "markdown",
   "id": "687a8335",
   "metadata": {},
   "source": [
    "## Stratified k-Fold CV Lecture 4 Marisol De La Cruz"
   ]
  },
  {
   "cell_type": "code",
   "execution_count": 10,
   "id": "ba1feb61",
   "metadata": {},
   "outputs": [],
   "source": [
    "from sklearn.datasets import load_wine\n",
    "from sklearn.model_selection import StratifiedKFold\n",
    "import pandas as pd\n",
    "import numpy as np\n",
    "import matplotlib.pyplot as plt"
   ]
  },
  {
   "cell_type": "markdown",
   "id": "1d03e2e9",
   "metadata": {},
   "source": [
    "## Work Period 4 Questions ##"
   ]
  },
  {
   "cell_type": "markdown",
   "id": "51db20ed",
   "metadata": {},
   "source": [
    ">  1.\tYou will implement Stratified K-Fold Cross-Validation using a dataset consisting of positive and negative integers. The goal is to split the dataset into 5 folds while maintaining the ratio between positive and negative examples in each fold. You will observe how Stratified K-Fold ensures that the class distribution remains consistent across all folds.\n",
    "Dataset: The dataset contains the first 40 positive integers and the first 10 negative integers.  \n",
    "Class 0: Negative integers (first 10 numbers: -10 to -1).  \n",
    "Class 1: Positive integers (first 40 numbers: 1 to 40).  \n",
    "a)\tGenerate the dataset of the 50 numbers and assign class labels and display the head of the data(15).  \n",
    "b)\tCreate your folds with StratifiedKFold.  \n",
    "c)\tFor each fold display the test set.  \n",
    "d)\tFor each test set verify that the ratio of positives to negatives is correct.\n"
   ]
  },
  {
   "cell_type": "markdown",
   "id": "336e3eea-a9c4-4344-8137-33697e78eaa3",
   "metadata": {},
   "source": [
    "a)\tGenerate the dataset of the 50 numbers and assign class labels and display the head of the data(15). "
   ]
  },
  {
   "cell_type": "code",
   "execution_count": 27,
   "id": "fe36b3e0",
   "metadata": {},
   "outputs": [],
   "source": [
    "# Dataset creation, 10 firts negative values and 40 positive values\n",
    "negatives = np.arange(-10, 0)  # Class 0: Negative integers (-10 to -1)\n",
    "positives = np.arange(1, 41)    # Class 1: Positive integers (1 to 40)\n"
   ]
  },
  {
   "cell_type": "code",
   "execution_count": 28,
   "id": "d97e10a3-4555-4e77-acfb-08209e539e50",
   "metadata": {},
   "outputs": [],
   "source": [
    "neg_labels = np.zeros(len(negatives), dtype=int)  # Class 0: Negative integers\n",
    "pos_labels = np.ones(len(positives), dtype=int)   # Class 1: Positive integers"
   ]
  },
  {
   "cell_type": "code",
   "execution_count": 34,
   "id": "107f53f8-a30d-48ee-a92e-644e6480e50a",
   "metadata": {},
   "outputs": [],
   "source": [
    "data = np.concatenate((negatives, positives))  # All numbers\n",
    "labels = np.concatenate((neg_labels, pos_labels))  # all lebels"
   ]
  },
  {
   "cell_type": "code",
   "execution_count": 35,
   "id": "10942d44-0e43-4221-a74e-733a166e5baf",
   "metadata": {},
   "outputs": [
    {
     "data": {
      "text/html": [
       "<div>\n",
       "<style scoped>\n",
       "    .dataframe tbody tr th:only-of-type {\n",
       "        vertical-align: middle;\n",
       "    }\n",
       "\n",
       "    .dataframe tbody tr th {\n",
       "        vertical-align: top;\n",
       "    }\n",
       "\n",
       "    .dataframe thead th {\n",
       "        text-align: right;\n",
       "    }\n",
       "</style>\n",
       "<table border=\"1\" class=\"dataframe\">\n",
       "  <thead>\n",
       "    <tr style=\"text-align: right;\">\n",
       "      <th></th>\n",
       "      <th>Integers</th>\n",
       "      <th>Labels</th>\n",
       "    </tr>\n",
       "  </thead>\n",
       "  <tbody>\n",
       "    <tr>\n",
       "      <th>0</th>\n",
       "      <td>-10</td>\n",
       "      <td>0</td>\n",
       "    </tr>\n",
       "    <tr>\n",
       "      <th>1</th>\n",
       "      <td>-9</td>\n",
       "      <td>0</td>\n",
       "    </tr>\n",
       "    <tr>\n",
       "      <th>2</th>\n",
       "      <td>-8</td>\n",
       "      <td>0</td>\n",
       "    </tr>\n",
       "    <tr>\n",
       "      <th>3</th>\n",
       "      <td>-7</td>\n",
       "      <td>0</td>\n",
       "    </tr>\n",
       "    <tr>\n",
       "      <th>4</th>\n",
       "      <td>-6</td>\n",
       "      <td>0</td>\n",
       "    </tr>\n",
       "    <tr>\n",
       "      <th>5</th>\n",
       "      <td>-5</td>\n",
       "      <td>0</td>\n",
       "    </tr>\n",
       "    <tr>\n",
       "      <th>6</th>\n",
       "      <td>-4</td>\n",
       "      <td>0</td>\n",
       "    </tr>\n",
       "    <tr>\n",
       "      <th>7</th>\n",
       "      <td>-3</td>\n",
       "      <td>0</td>\n",
       "    </tr>\n",
       "    <tr>\n",
       "      <th>8</th>\n",
       "      <td>-2</td>\n",
       "      <td>0</td>\n",
       "    </tr>\n",
       "    <tr>\n",
       "      <th>9</th>\n",
       "      <td>-1</td>\n",
       "      <td>0</td>\n",
       "    </tr>\n",
       "    <tr>\n",
       "      <th>10</th>\n",
       "      <td>1</td>\n",
       "      <td>1</td>\n",
       "    </tr>\n",
       "    <tr>\n",
       "      <th>11</th>\n",
       "      <td>2</td>\n",
       "      <td>1</td>\n",
       "    </tr>\n",
       "    <tr>\n",
       "      <th>12</th>\n",
       "      <td>3</td>\n",
       "      <td>1</td>\n",
       "    </tr>\n",
       "    <tr>\n",
       "      <th>13</th>\n",
       "      <td>4</td>\n",
       "      <td>1</td>\n",
       "    </tr>\n",
       "    <tr>\n",
       "      <th>14</th>\n",
       "      <td>5</td>\n",
       "      <td>1</td>\n",
       "    </tr>\n",
       "  </tbody>\n",
       "</table>\n",
       "</div>"
      ],
      "text/plain": [
       "    Integers  Labels\n",
       "0        -10       0\n",
       "1         -9       0\n",
       "2         -8       0\n",
       "3         -7       0\n",
       "4         -6       0\n",
       "5         -5       0\n",
       "6         -4       0\n",
       "7         -3       0\n",
       "8         -2       0\n",
       "9         -1       0\n",
       "10         1       1\n",
       "11         2       1\n",
       "12         3       1\n",
       "13         4       1\n",
       "14         5       1"
      ]
     },
     "execution_count": 35,
     "metadata": {},
     "output_type": "execute_result"
    }
   ],
   "source": [
    "data = pd.DataFrame({'Integers': data, 'Labels': labels})\n",
    "data.head(15)"
   ]
  },
  {
   "cell_type": "markdown",
   "id": "f20e4858-4865-4e85-ad4f-a798a77e0235",
   "metadata": {},
   "source": [
    "b)\tCreate your folds with StratifiedKFold.  "
   ]
  },
  {
   "cell_type": "code",
   "execution_count": 36,
   "id": "b0a3a841-b06b-4acd-a744-b8381084cf31",
   "metadata": {},
   "outputs": [],
   "source": [
    "skf = StratifiedKFold(n_splits=5, shuffle=True, random_state=42)\n",
    "folds = []\n",
    "for train_index, test_index in skf.split(df['Integers'], df['Labels']):\n",
    "    fold = df.iloc[test_index]\n",
    "    folds.append(fold)"
   ]
  },
  {
   "cell_type": "code",
   "execution_count": 37,
   "id": "8b133366-b297-4ffa-b2c8-f1ddb9ec8691",
   "metadata": {},
   "outputs": [
    {
     "name": "stdout",
     "output_type": "stream",
     "text": [
      "Fold 1:\n",
      "    Integers  Labels\n",
      "1         -9       0\n",
      "3         -7       0\n",
      "13         4       1\n",
      "18         9       1\n",
      "21        12       1\n",
      "22        13       1\n",
      "34        25       1\n",
      "37        28       1\n",
      "40        31       1\n",
      "43        34       1\n",
      "Fold 2:\n",
      "    Integers  Labels\n",
      "5         -5       0\n",
      "8         -2       0\n",
      "16         7       1\n",
      "20        11       1\n",
      "25        16       1\n",
      "27        18       1\n",
      "28        19       1\n",
      "29        20       1\n",
      "38        29       1\n",
      "47        38       1\n",
      "Fold 3:\n",
      "    Integers  Labels\n",
      "2         -8       0\n",
      "7         -3       0\n",
      "17         8       1\n",
      "26        17       1\n",
      "30        21       1\n",
      "41        32       1\n",
      "42        33       1\n",
      "45        36       1\n",
      "48        39       1\n",
      "49        40       1\n",
      "Fold 4:\n",
      "    Integers  Labels\n",
      "4         -6       0\n",
      "9         -1       0\n",
      "10         1       1\n",
      "12         3       1\n",
      "14         5       1\n",
      "19        10       1\n",
      "31        22       1\n",
      "33        24       1\n",
      "35        26       1\n",
      "36        27       1\n",
      "Fold 5:\n",
      "    Integers  Labels\n",
      "0        -10       0\n",
      "6         -4       0\n",
      "11         2       1\n",
      "15         6       1\n",
      "23        14       1\n",
      "24        15       1\n",
      "32        23       1\n",
      "39        30       1\n",
      "44        35       1\n",
      "46        37       1\n"
     ]
    }
   ],
   "source": [
    "for i in range(len(folds)):\n",
    "    print(f\"Fold {i+1}:\")\n",
    "    print(folds[i])"
   ]
  },
  {
   "cell_type": "markdown",
   "id": "5046a63f-13c7-4281-b711-0807b29631d7",
   "metadata": {},
   "source": [
    "c)\tFor each fold display the test set. "
   ]
  },
  {
   "cell_type": "code",
   "execution_count": 38,
   "id": "7fa85feb-e84b-4d2b-a7b2-411a1e25a7fb",
   "metadata": {},
   "outputs": [
    {
     "name": "stdout",
     "output_type": "stream",
     "text": [
      "Fold 1:\n",
      "Labels\n",
      "1    0.8\n",
      "0    0.2\n",
      "Name: proportion, dtype: float64\n",
      "Fold 2:\n",
      "Labels\n",
      "1    0.8\n",
      "0    0.2\n",
      "Name: proportion, dtype: float64\n",
      "Fold 3:\n",
      "Labels\n",
      "1    0.8\n",
      "0    0.2\n",
      "Name: proportion, dtype: float64\n",
      "Fold 4:\n",
      "Labels\n",
      "1    0.8\n",
      "0    0.2\n",
      "Name: proportion, dtype: float64\n",
      "Fold 5:\n",
      "Labels\n",
      "1    0.8\n",
      "0    0.2\n",
      "Name: proportion, dtype: float64\n"
     ]
    }
   ],
   "source": [
    "for i, (train_index, test_index) in enumerate(skf.split(df['Integers'], df['Labels'])):\n",
    "    # Access the data using the train_index and test_index directly\n",
    "    train_set = df.iloc[train_index]\n",
    "    test_set = df.iloc[test_index]\n",
    "\n",
    "    print(f\"Fold {i+1}:\")\n",
    "\n",
    "    class_distribution = test_set['Labels'].value_counts(normalize=True) # 'Labels' is the correct column name\n",
    "    print(class_distribution)"
   ]
  },
  {
   "cell_type": "markdown",
   "id": "ff2bef68-6641-4962-8054-11b2e0fa2570",
   "metadata": {},
   "source": [
    "d)\tFor each test set verify that the ratio of positives to negatives is correct."
   ]
  },
  {
   "cell_type": "code",
   "execution_count": 55,
   "id": "eb042c30-9d01-4484-b0e0-efb591df2049",
   "metadata": {},
   "outputs": [],
   "source": [
    "# True and predicted values\n",
    "true_values = {\n",
    "    'True_1': [10.0, 7.5, -3.0, 15.0, 2.0, 0.0, -5.0, 9.0, -2.0, 8.0],\n",
    "    'True_2': [5.0, 8.0, 12.0, -6.0, -1.0, 4.0, 10.0, 6.0, 3.0, -3.0],\n",
    "    'True_3': [-2.0, 0.5, 5.0, -3.0, 7.0, 2.0, -4.0, 0.0, 1.0, 4.0],\n",
    "    'True_4': [3.0, -4.0, 2.0, 10.0, -8.0, 1.0, -2.0, 3.0, -7.0, 0.0],\n",
    "}\n",
    "\n",
    "predicted_values = {\n",
    "    'Predicted_1': [11.0, 8.5, -2.0, 16.0, 3.0, 1.0, -4.0, 10.0, -1.0, 9.0],\n",
    "    'Predicted_2': [4.5, 7.5, 11.5, -6.5, -1.5, 3.5, 9.5, 5.5, 2.5, -3.5],\n",
    "    'Predicted_3': [-1.2, 1.3, 5.8, -2.2, 7.8, 2.8, -3.2, 0.8, 1.8, 4.8],\n",
    "    'Predicted_4': [1.8, -5.2, 0.8, 8.8, -9.2, -0.2, -3.2, 1.8, -8.2, -1.2],\n",
    "}"
   ]
  },
  {
   "cell_type": "code",
   "execution_count": 56,
   "id": "5237420d-d38e-46c4-9164-5551c9a8016c",
   "metadata": {},
   "outputs": [],
   "source": [
    "df_true = pd.DataFrame(true_values, columns=['True_1', 'True_2', 'True_3', 'True_4'])\n",
    "df_pred = pd.DataFrame(predicted_values, columns=['Predicted_1', 'Predicted_2', 'Predicted_3', 'Predicted_4'])"
   ]
  },
  {
   "cell_type": "code",
   "execution_count": 57,
   "id": "543118a6-44eb-4e8d-9b7f-f3a82ac0555a",
   "metadata": {},
   "outputs": [],
   "source": [
    "bias = pd.DataFrame({\n",
    "    'Bias_1': df_pred['Predicted_1'] - df_true['True_1'],\n",
    "    'Bias_2': df_pred['Predicted_2'] - df_true['True_2'],\n",
    "    'Bias_3': df_pred['Predicted_3'] - df_true['True_3'],\n",
    "    'Bias_4': df_pred['Predicted_4'] - df_true['True_4']\n",
    "})"
   ]
  },
  {
   "cell_type": "code",
   "execution_count": 58,
   "id": "0c9f14dc-9e84-41b4-89b2-14c39e5ce3af",
   "metadata": {},
   "outputs": [
    {
     "name": "stdout",
     "output_type": "stream",
     "text": [
      "   True_1  Predicted_1  Bias_1  True_2  Predicted_2  Bias_2  True_3  \\\n",
      "0    10.0         11.0     1.0     5.0          4.5    -0.5    -2.0   \n",
      "1     7.5          8.5     1.0     8.0          7.5    -0.5     0.5   \n",
      "2    -3.0         -2.0     1.0    12.0         11.5    -0.5     5.0   \n",
      "3    15.0         16.0     1.0    -6.0         -6.5    -0.5    -3.0   \n",
      "4     2.0          3.0     1.0    -1.0         -1.5    -0.5     7.0   \n",
      "5     0.0          1.0     1.0     4.0          3.5    -0.5     2.0   \n",
      "6    -5.0         -4.0     1.0    10.0          9.5    -0.5    -4.0   \n",
      "7     9.0         10.0     1.0     6.0          5.5    -0.5     0.0   \n",
      "8    -2.0         -1.0     1.0     3.0          2.5    -0.5     1.0   \n",
      "9     8.0          9.0     1.0    -3.0         -3.5    -0.5     4.0   \n",
      "\n",
      "   Predicted_3  Bias_3  True_4  Predicted_4  Bias_4  \n",
      "0         -1.2     0.8     3.0          1.8    -1.2  \n",
      "1          1.3     0.8    -4.0         -5.2    -1.2  \n",
      "2          5.8     0.8     2.0          0.8    -1.2  \n",
      "3         -2.2     0.8    10.0          8.8    -1.2  \n",
      "4          7.8     0.8    -8.0         -9.2    -1.2  \n",
      "5          2.8     0.8     1.0         -0.2    -1.2  \n",
      "6         -3.2     0.8    -2.0         -3.2    -1.2  \n",
      "7          0.8     0.8     3.0          1.8    -1.2  \n",
      "8          1.8     0.8    -7.0         -8.2    -1.2  \n",
      "9          4.8     0.8     0.0         -1.2    -1.2  \n"
     ]
    }
   ],
   "source": [
    "bias = (df_pred.values - df_true.values)\n",
    "\n",
    "df_bias = pd.DataFrame({\n",
    "    'True_1': df_true['True_1'],\n",
    "    'Predicted_1': df_pred['Predicted_1'],\n",
    "    'Bias_1': bias[:, 0],  # Sesgo de la primera columna\n",
    "    'True_2': df_true['True_2'],\n",
    "    'Predicted_2': df_pred['Predicted_2'],\n",
    "    'Bias_2': bias[:, 1],  # Sesgo de la segunda columna\n",
    "    'True_3': df_true['True_3'],\n",
    "    'Predicted_3': df_pred['Predicted_3'],\n",
    "    'Bias_3': bias[:, 2],  # Sesgo de la tercera columna\n",
    "    'True_4': df_true['True_4'],\n",
    "    'Predicted_4': df_pred['Predicted_4'],\n",
    "    'Bias_4': bias[:, 3]   # Sesgo de la cuarta columna\n",
    "})\n",
    "\n",
    "# Mostrar los resultados\n",
    "print(df_bias)"
   ]
  },
  {
   "cell_type": "markdown",
   "id": "5b244722",
   "metadata": {},
   "source": [
    "> 2.\tBias Calculation (from lecture notes)\n",
    "Given the dataset with both true and predicted values from the notes:  \n",
    "a)\tFor each data point, compute the bias using the formula for bias. Display the results.  \n",
    "b)\t Compute the Euclidean norm for each bias and display the values.\n"
   ]
  },
  {
   "cell_type": "code",
   "execution_count": 60,
   "id": "17d7c2b7-6309-4014-b7ae-a83674c5a407",
   "metadata": {},
   "outputs": [
    {
     "name": "stdout",
     "output_type": "stream",
     "text": [
      "Bias (Predicted - True):\n",
      "    Bias_1  Bias_2  Bias_3  Bias_4\n",
      "0     1.0    -0.5     0.8    -1.2\n",
      "1     1.0    -0.5     0.8    -1.2\n",
      "2     1.0    -0.5     0.8    -1.2\n",
      "3     1.0    -0.5     0.8    -1.2\n",
      "4     1.0    -0.5     0.8    -1.2\n",
      "5     1.0    -0.5     0.8    -1.2\n",
      "6     1.0    -0.5     0.8    -1.2\n",
      "7     1.0    -0.5     0.8    -1.2\n",
      "8     1.0    -0.5     0.8    -1.2\n",
      "9     1.0    -0.5     0.8    -1.2\n",
      "Euclidean Norms of Bias:\n",
      " [1.82482876 1.82482876 1.82482876 1.82482876 1.82482876 1.82482876\n",
      " 1.82482876 1.82482876 1.82482876 1.82482876]\n"
     ]
    }
   ],
   "source": [
    "bias_df = pd.DataFrame({\n",
    "    'Bias_1': df_pred['Predicted_1'] - df_true['True_1'],\n",
    "    'Bias_2': df_pred['Predicted_2'] - df_true['True_2'],\n",
    "    'Bias_3': df_pred['Predicted_3'] - df_true['True_3'],\n",
    "    'Bias_4': df_pred['Predicted_4'] - df_true['True_4']\n",
    "})\n",
    "\n",
    "print(\"Bias (Predicted - True):\\n\", bias_df)\n",
    "\n",
    "# Compute Euclidean norm (L2 norm) of bias for each prediction\n",
    "euclidean_norm = np.linalg.norm(bias_df.values, axis=1)\n",
    "print(\"Euclidean Norms of Bias:\\n\", euclidean_norm)"
   ]
  },
  {
   "cell_type": "markdown",
   "id": "7690eb41",
   "metadata": {},
   "source": [
    "> 3.\tAdvantages of Stratified K-Fold Cross-Validation.  \n",
    "a)\tIn your own words, explain the advantages of using stratified K-fold cross-validation over standard K-fold cross-validation.  \n",
    "b)\tDiscuss how stratification improves the performance of machine learning models, especially when working with imbalanced datasets.  \n",
    "c)\tWhy is it important to maintain the same class proportions in each fold, and how does this impact model evaluation?\n"
   ]
  },
  {
   "cell_type": "markdown",
   "id": "e9a3909f-aefa-4928-9988-30f1495da8e4",
   "metadata": {},
   "source": [
    "assuming that we have an unbalanced dataset, when applying K-Fold each fold better reflects the class distribution of the entire data set,"
   ]
  },
  {
   "cell_type": "markdown",
   "id": "811b3c2b-7059-4c3c-a455-9fd2aede8ab4",
   "metadata": {},
   "source": [
    "Preserving the class distribution ensures that each fold is representative of the entire data set."
   ]
  },
  {
   "cell_type": "markdown",
   "id": "9a20163f-89a1-40ff-88d0-0cbda0440017",
   "metadata": {},
   "source": [
    "It allows you to better understand how the model behaves in different segments of the data and adjust the model accordingly."
   ]
  },
  {
   "cell_type": "markdown",
   "id": "c11910c2",
   "metadata": {},
   "source": [
    "> 4.\tImpact of the Number of Folds (k).  \n",
    "The number of folds (k) in cross-validation can impact the bias and variance of the model's performance estimate.  \n",
    "a)\tExplain how increasing or decreasing the number of folds affects the bias and variance of the model.  \n",
    "b)\twhat would be a good choice for the number of folds (k) for:  \n",
    "i.\tA small dataset?  \n",
    "ii.\tA large dataset?  \n",
    "iii.\tAn imbalanced dataset?\n"
   ]
  },
  {
   "cell_type": "markdown",
   "id": "fe3ffc05-53a6-4709-90e4-9121eb9bb490",
   "metadata": {},
   "source": [
    "The number of folds (k) in cross-validation can significantly influence both the bias and variance of the model's performance estimates"
   ]
  },
  {
   "cell_type": "markdown",
   "id": "2e287071-2fcf-4606-9e8f-4c78d9bd15d0",
   "metadata": {},
   "source": [
    "The training set will contain a greater or lesser proportion of the data set. and depending on the selected portion allows a more robust evaluation of the model,"
   ]
  },
  {
   "cell_type": "markdown",
   "id": "76fc219c-94a3-4a69-a388-1b64a0b8176a",
   "metadata": {},
   "source": [
    "A higher k means that each training set will contain a smaller proportion of the dataset."
   ]
  },
  {
   "cell_type": "code",
   "execution_count": null,
   "id": "b407042c",
   "metadata": {},
   "outputs": [],
   "source": []
  },
  {
   "cell_type": "code",
   "execution_count": null,
   "id": "db07c0a1",
   "metadata": {},
   "outputs": [],
   "source": []
  }
 ],
 "metadata": {
  "kernelspec": {
   "display_name": "Python 3 (ipykernel)",
   "language": "python",
   "name": "python3"
  },
  "language_info": {
   "codemirror_mode": {
    "name": "ipython",
    "version": 3
   },
   "file_extension": ".py",
   "mimetype": "text/x-python",
   "name": "python",
   "nbconvert_exporter": "python",
   "pygments_lexer": "ipython3",
   "version": "3.8.20"
  }
 },
 "nbformat": 4,
 "nbformat_minor": 5
}
