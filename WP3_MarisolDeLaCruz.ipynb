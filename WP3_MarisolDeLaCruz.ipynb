{
 "cells": [
  {
   "cell_type": "code",
   "execution_count": null,
   "id": "a8de49c9",
   "metadata": {},
   "outputs": [],
   "source": []
  },
  {
   "cell_type": "markdown",
   "id": "687a8335",
   "metadata": {},
   "source": [
    "## DTs and CV Lecture 3 Marisol De La Cruz"
   ]
  },
  {
   "cell_type": "code",
   "execution_count": 65,
   "id": "ba1feb61",
   "metadata": {},
   "outputs": [],
   "source": [
    "from sklearn.model_selection import KFold\n",
    "import numpy as np\n",
    "import random"
   ]
  },
  {
   "cell_type": "markdown",
   "id": "1d03e2e9",
   "metadata": {},
   "source": [
    "## Work Period 3 Questions ##"
   ]
  },
  {
   "cell_type": "markdown",
   "id": "51db20ed",
   "metadata": {},
   "source": [
    ">  1.\tWrite a Python script that divides a dataset into 5 folds using basic indexing without using any libraries like scikit-learn. Assume the dataset is a list of numbers from 1 to 20. Create 5 folds and print each fold. Sample Output:"
   ]
  },
  {
   "cell_type": "code",
   "execution_count": 66,
   "id": "56574ba9",
   "metadata": {},
   "outputs": [
    {
     "name": "stdout",
     "output_type": "stream",
     "text": [
      "Fold 1: [1, 2, 3, 4]\n",
      "Fold 2: [5, 6, 7, 8]\n",
      "Fold 3: [9, 10, 11, 12]\n",
      "Fold 4: [13, 14, 15, 16]\n",
      "Fold 5: [17, 18, 19, 20]\n"
     ]
    }
   ],
   "source": [
    "# Dataset: list of numbers from 1 to 20\n",
    "dataset = list(range(1, 21))\n",
    "\n",
    "# Number of folds\n",
    "n_splits = 5\n",
    "\n",
    "# Calculate the size of each fold\n",
    "fold_size = len(dataset) // n_splits\n",
    "\n",
    "# Create the folds\n",
    "folds = []\n",
    "for i in range(n_splits):\n",
    "    start_index = i * fold_size\n",
    "    # The last fold will take the remaining data to avoid leftover samples\n",
    "    if i == n_splits - 1:\n",
    "        fold = dataset[start_index:]\n",
    "    else:\n",
    "        fold = dataset[start_index:start_index + fold_size]\n",
    "    folds.append(fold)\n",
    "\n",
    "# Print each fold\n",
    "for i, fold in enumerate(folds, 1):\n",
    "    print(f\"Fold {i}: {fold}\")"
   ]
  },
  {
   "cell_type": "markdown",
   "id": "5b244722",
   "metadata": {},
   "source": [
    "> 2.\tUsing the folds generated in Question 1, write a script to create training and test sets for each fold iteration. For each fold, designate one fold as the test set and the rest as the training set. Print the train and test sets for each iteration. Print out the train and test set for each iteration. Sample Output:"
   ]
  },
  {
   "cell_type": "code",
   "execution_count": 67,
   "id": "541ba697",
   "metadata": {},
   "outputs": [
    {
     "name": "stdout",
     "output_type": "stream",
     "text": [
      "Iteration 1:\n",
      "Train set: [5, 6, 7, 8, 9, 10, 11, 12, 13, 14, 15, 16, 17, 18, 19, 20]\n",
      "Test set: [1, 2, 3, 4]\n",
      "\n",
      "Iteration 2:\n",
      "Train set: [1, 2, 3, 4, 9, 10, 11, 12, 13, 14, 15, 16, 17, 18, 19, 20]\n",
      "Test set: [5, 6, 7, 8]\n",
      "\n",
      "Iteration 3:\n",
      "Train set: [1, 2, 3, 4, 5, 6, 7, 8, 13, 14, 15, 16, 17, 18, 19, 20]\n",
      "Test set: [9, 10, 11, 12]\n",
      "\n",
      "Iteration 4:\n",
      "Train set: [1, 2, 3, 4, 5, 6, 7, 8, 9, 10, 11, 12, 17, 18, 19, 20]\n",
      "Test set: [13, 14, 15, 16]\n",
      "\n",
      "Iteration 5:\n",
      "Train set: [1, 2, 3, 4, 5, 6, 7, 8, 9, 10, 11, 12, 13, 14, 15, 16]\n",
      "Test set: [17, 18, 19, 20]\n",
      "\n"
     ]
    }
   ],
   "source": [
    "# Iterate over each fold to create training and test sets\n",
    "for i in range(n_splits):\n",
    "    # Test set is the i-th fold\n",
    "    test_set = folds[i]\n",
    "    \n",
    "    # Training set is the combination of all other folds\n",
    "    train_set = []\n",
    "    for j in range(n_splits):\n",
    "        if j != i:\n",
    "            train_set.extend(folds[j])  # Combine all the other folds\n",
    "    \n",
    "    # Print the train and test sets for the current fold\n",
    "    print(f\"Iteration {i + 1}:\")\n",
    "    print(f\"Train set: {train_set}\")\n",
    "    print(f\"Test set: {test_set}\\n\")"
   ]
  },
  {
   "cell_type": "markdown",
   "id": "7690eb41",
   "metadata": {},
   "source": [
    "> 3.\tModify the script from Question 1 to shuffle the data before creating the folds. Shuffle the data using Python's random module, then create 5 folds."
   ]
  },
  {
   "cell_type": "code",
   "execution_count": 68,
   "id": "48f34e07",
   "metadata": {},
   "outputs": [
    {
     "name": "stdout",
     "output_type": "stream",
     "text": [
      "Fold 1: [10, 13, 17, 6]\n",
      "Fold 2: [20, 15, 2, 5]\n",
      "Fold 3: [12, 19, 4, 11]\n",
      "Fold 4: [16, 3, 14, 7]\n",
      "Fold 5: [8, 9, 1, 18]\n"
     ]
    }
   ],
   "source": [
    "\n",
    "# Dataset: list of numbers from 1 to 20\n",
    "dataset = list(range(1, 21))\n",
    "\n",
    "# Shuffle the dataset\n",
    "random.shuffle(dataset)\n",
    "\n",
    "# Number of folds\n",
    "n_splits = 5\n",
    "\n",
    "# Calculate the size of each fold\n",
    "fold_size = len(dataset) // n_splits\n",
    "\n",
    "# Create the folds\n",
    "folds = []\n",
    "for i in range(n_splits):\n",
    "    start_index = i * fold_size\n",
    "    if i == n_splits - 1:\n",
    "        fold = dataset[start_index:]\n",
    "    else:\n",
    "        fold = dataset[start_index:start_index + fold_size]\n",
    "    folds.append(fold)\n",
    "\n",
    "# Print each fold\n",
    "for i, fold in enumerate(folds, 1):\n",
    "    print(f\"Fold {i}: {fold}\")\n"
   ]
  },
  {
   "cell_type": "markdown",
   "id": "c11910c2",
   "metadata": {},
   "source": [
    "> 4.\tWrite a function in Python that calculates the size of each fold given any dataset length and number of folds.Define a function calculate_fold_size(data_length, k) and use it to calculate fold sizes for a list of 25 items with 4 folds. Sample ouput:"
   ]
  },
  {
   "cell_type": "code",
   "execution_count": 69,
   "id": "09645cd1",
   "metadata": {},
   "outputs": [
    {
     "name": "stdout",
     "output_type": "stream",
     "text": [
      "Each fold size: 6, Remainder: 1\n"
     ]
    }
   ],
   "source": [
    "def calculate_fold_size(data_length, k):\n",
    "    \n",
    "    # Calculate the base size of each fold\n",
    "    base_fold_size = data_length // k\n",
    "    # Calculate how many items remain after dividing equally\n",
    "    remainder = data_length % k\n",
    "\n",
    "    return base_fold_size, remainder\n",
    "\n",
    "# Test the function with a list of 25 items and 4 folds\n",
    "data_length = 25\n",
    "k = 4\n",
    "base_size, remainder = calculate_fold_size(data_length, k)\n",
    "\n",
    "# Print the result in the desired format\n",
    "print(f\"Each fold size: {base_size}, Remainder: {remainder}\")"
   ]
  },
  {
   "cell_type": "markdown",
   "id": "5ba6dc53",
   "metadata": {},
   "source": [
    "> 5.\tUse scikit-learn’s KFold class to split the sample list of numbers from 1 to 20 into 4 folds. Use the KFold class from sklearn.model_selection to create 4 folds and print the indices of training and test sets for each fold. Sample output:"
   ]
  },
  {
   "cell_type": "code",
   "execution_count": 70,
   "id": "ec65c532",
   "metadata": {},
   "outputs": [
    {
     "name": "stdout",
     "output_type": "stream",
     "text": [
      "Iteration 1:\n",
      "Train indices: [ 5  6  7  8  9 10 11 12 13 14 15 16 17 18 19]\n",
      "Test indices: [0 1 2 3 4]\n",
      "Iteration 2:\n",
      "Train indices: [ 0  1  2  3  4 10 11 12 13 14 15 16 17 18 19]\n",
      "Test indices: [5 6 7 8 9]\n",
      "Iteration 3:\n",
      "Train indices: [ 0  1  2  3  4  5  6  7  8  9 15 16 17 18 19]\n",
      "Test indices: [10 11 12 13 14]\n",
      "Iteration 4:\n",
      "Train indices: [ 0  1  2  3  4  5  6  7  8  9 10 11 12 13 14]\n",
      "Test indices: [15 16 17 18 19]\n"
     ]
    }
   ],
   "source": [
    "# Sample dataset: list of numbers from 1 to 20\n",
    "data = list(range(1, 21))\n",
    "\n",
    "# Number of folds\n",
    "n_splits = 4\n",
    "\n",
    "# Initialize KFold\n",
    "kf = KFold(n_splits=n_splits)\n",
    "\n",
    "for fold, (train_index, test_index) in enumerate(kf.split(data)):\n",
    "    print(f\"Iteration {fold + 1}:\")\n",
    "    print(f\"Train indices: {train_index}\")\n",
    "    print(f\"Test indices: {test_index}\")\n",
    "   "
   ]
  },
  {
   "cell_type": "markdown",
   "id": "980f69cb",
   "metadata": {},
   "source": [
    "> 6.\tGiven the performance scores for each fold as [0.8, 0.75, 0.82, 0.78, 0.80], calculate the average performance.  Write a Python function to compute the average score. Sample output:"
   ]
  },
  {
   "cell_type": "code",
   "execution_count": 71,
   "id": "5f32bb35",
   "metadata": {},
   "outputs": [
    {
     "name": "stdout",
     "output_type": "stream",
     "text": [
      "Average performance score: 0.79\n"
     ]
    }
   ],
   "source": [
    "def calculate_average(scores):\n",
    "\n",
    "    return sum(scores) / len(scores)\n",
    "\n",
    "# Performance scores for each fold\n",
    "performance_scores = [0.8, 0.75, 0.82, 0.78, 0.80]\n",
    "\n",
    "# Calculate the average score\n",
    "average_score = calculate_average(performance_scores)\n",
    "\n",
    "# Print the average score\n",
    "print(f\"Average performance score: {average_score:.2f}\")\n"
   ]
  },
  {
   "cell_type": "code",
   "execution_count": null,
   "id": "b407042c",
   "metadata": {},
   "outputs": [],
   "source": []
  },
  {
   "cell_type": "code",
   "execution_count": null,
   "id": "db07c0a1",
   "metadata": {},
   "outputs": [],
   "source": []
  }
 ],
 "metadata": {
  "kernelspec": {
   "display_name": "Python 3",
   "language": "python",
   "name": "python3"
  },
  "language_info": {
   "codemirror_mode": {
    "name": "ipython",
    "version": 3
   },
   "file_extension": ".py",
   "mimetype": "text/x-python",
   "name": "python",
   "nbconvert_exporter": "python",
   "pygments_lexer": "ipython3",
   "version": "3.7.1"
  }
 },
 "nbformat": 4,
 "nbformat_minor": 5
}
