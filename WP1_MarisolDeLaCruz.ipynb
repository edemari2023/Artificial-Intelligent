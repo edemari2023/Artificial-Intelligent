{
 "cells": [
  {
   "cell_type": "markdown",
   "id": "20d5c209",
   "metadata": {},
   "source": [
    "## Work Period Task Marisol De La Cruz\n",
    "### Accurancy, "
   ]
  },
  {
   "cell_type": "code",
   "execution_count": 16,
   "id": "54d74c04-71c6-450a-883d-5153522894e1",
   "metadata": {
    "tags": []
   },
   "outputs": [],
   "source": [
    "import pandas as pd\n",
    "from sklearn.metrics import *"
   ]
  },
  {
   "cell_type": "markdown",
   "id": "d34c5926",
   "metadata": {},
   "source": [
    "> Accuracy= (Total Number of Predictions)/(Number of Correct Predictions)\n",
    "\n",
    " > = (TP+TN)/(TP+TN+FP+FN)\n",
    "\n",
    ">  Where:\n",
    "\n",
    "> * TP = True Positives (correctly predicted positive cases)\n",
    "> * TN = True Negatives (correctly predicted negative cases)\n",
    "> * FP = False Positives (incorrectly predicted positive cases)\n",
    "> * FN = False Negatives (incorrectly predicted negative cases)"
   ]
  },
  {
   "cell_type": "code",
   "execution_count": 17,
   "id": "99ab6b5f-38ca-4dc8-a970-9ea5b9a3bf78",
   "metadata": {
    "tags": []
   },
   "outputs": [],
   "source": [
    "true_classes = pd.Series([1,0,1,1,2,0,2,1,0,1])\n",
    "predicted_classes = pd.Series([1,0,0,1,2,0,1,2,0,1])"
   ]
  },
  {
   "cell_type": "code",
   "execution_count": 18,
   "id": "9c061c4c",
   "metadata": {},
   "outputs": [
    {
     "name": "stdout",
     "output_type": "stream",
     "text": [
      "The accuracy is 0.7\n"
     ]
    }
   ],
   "source": [
    "# Calculate accuracy\n",
    "accuracy = accuracy_score(true_classes, predicted_classes)\n",
    "\n",
    "# Print the accuracy\n",
    "print(f\"The accuracy is {accuracy}\")"
   ]
  },
  {
   "cell_type": "markdown",
   "id": "1d1211d7-8d44-4b90-91fb-99c212a0ad4f",
   "metadata": {},
   "source": [
    "### Precision"
   ]
  },
  {
   "cell_type": "markdown",
   "id": "3a3f68ca",
   "metadata": {},
   "source": [
    "> * Precision= (True Positives (TP)) / (True Positives (TP) + False Positives (FP))"
   ]
  },
  {
   "cell_type": "code",
   "execution_count": 21,
   "id": "2288b64f-be9d-4746-9dc0-aa35c15d2bf5",
   "metadata": {
    "tags": []
   },
   "outputs": [],
   "source": [
    "true_classes =      pd.Series([1,0,1,1,0,0,1,0,1,0])\n",
    "predicted_classes = pd.Series([1,0,1,0,0,1,1,0,0,0])"
   ]
  },
  {
   "cell_type": "code",
   "execution_count": 20,
   "id": "5858c896",
   "metadata": {},
   "outputs": [
    {
     "name": "stdout",
     "output_type": "stream",
     "text": [
      "True Positives (TP): 3\n",
      "False Positives (FP): 1\n",
      "Precision: 0.75\n"
     ]
    }
   ],
   "source": [
    "true_classes = pd.Series([1, 0, 1, 1, 0, 0, 1, 0, 1, 0])\n",
    "predicted_classes = pd.Series([1, 0, 1, 0, 0, 1, 1, 0, 0, 0])\n",
    "\n",
    "# Calculate True Positives (TP) and False Positives (FP)\n",
    "TP = sum((true_classes == 1) & (predicted_classes == 1))\n",
    "FP = sum((true_classes == 0) & (predicted_classes == 1))\n",
    "\n",
    "# Calculate Precision\n",
    "precision = precision_score(true_classes, predicted_classes)\n",
    "\n",
    "# Display the results\n",
    "print(f\"True Positives (TP): {TP}\")\n",
    "print(f\"False Positives (FP): {FP}\")\n",
    "print(f\"Precision: {precision}\")"
   ]
  },
  {
   "cell_type": "markdown",
   "id": "98e8015b",
   "metadata": {},
   "source": [
    "### Recall"
   ]
  },
  {
   "cell_type": "markdown",
   "id": "c2aaabba",
   "metadata": {},
   "source": [
    "> **Recall** = (True Positives)/(True Positives + False Negatives)\n",
    "\n",
    "Where:\n",
    "- \\( TP \\) = True Positives\n",
    "- \\( FN \\) = False Negatives\n"
   ]
  },
  {
   "cell_type": "code",
   "execution_count": 22,
   "id": "f91043a5",
   "metadata": {},
   "outputs": [
    {
     "name": "stdout",
     "output_type": "stream",
     "text": [
      "True Positives (TP): 3\n",
      "False Negatives (FN): 2\n",
      "Recall: 0.6\n"
     ]
    }
   ],
   "source": [
    "true_classes = pd.Series([1, 0, 1, 1, 0, 0, 1, 0, 1, 0])\n",
    "predicted_classes = pd.Series([1, 0, 1, 0, 0, 1, 1, 0, 0, 0])\n",
    "\n",
    "# Calculate True Positives (TP) y False Negatives (FN)\n",
    "TP = sum((true_classes == 1) & (predicted_classes == 1))\n",
    "FN = sum((true_classes == 1) & (predicted_classes == 0))\n",
    "\n",
    "# Calculate Recall\n",
    "recall = recall_score(true_classes, predicted_classes)\n",
    "\n",
    "# Display the results\n",
    "print(f\"True Positives (TP): {TP}\")\n",
    "print(f\"False Negatives (FN): {FN}\")\n",
    "print(f\"Recall: {recall}\")"
   ]
  },
  {
   "cell_type": "code",
   "execution_count": null,
   "id": "acf33258-5161-4ff5-9b0f-9c7b9918a10b",
   "metadata": {},
   "outputs": [],
   "source": []
  }
 ],
 "metadata": {
  "kernelspec": {
   "display_name": "Python 3",
   "language": "python",
   "name": "python3"
  },
  "language_info": {
   "codemirror_mode": {
    "name": "ipython",
    "version": 3
   },
   "file_extension": ".py",
   "mimetype": "text/x-python",
   "name": "python",
   "nbconvert_exporter": "python",
   "pygments_lexer": "ipython3",
   "version": "3.7.1"
  }
 },
 "nbformat": 4,
 "nbformat_minor": 5
}
