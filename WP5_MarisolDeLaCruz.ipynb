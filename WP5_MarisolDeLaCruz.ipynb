{
 "cells": [
  {
   "cell_type": "code",
   "execution_count": null,
   "id": "a8de49c9",
   "metadata": {},
   "outputs": [],
   "source": []
  },
  {
   "attachments": {},
   "cell_type": "markdown",
   "id": "687a8335",
   "metadata": {},
   "source": [
    "## Gini Lecture 5 Marisol De La Cruz"
   ]
  },
  {
   "cell_type": "code",
   "execution_count": 5,
   "id": "ba1feb61",
   "metadata": {},
   "outputs": [],
   "source": [
    "import matplotlib.pyplot as plt\n",
    "import pandas as pd\n",
    "import numpy as np\n",
    "import math\n",
    "\n",
    "from sklearn.tree import DecisionTreeClassifier, plot_tree\n",
    "from scipy.stats import entropy"
   ]
  },
  {
   "cell_type": "markdown",
   "id": "1d03e2e9",
   "metadata": {},
   "source": [
    "## Work Period 5 Questions ##"
   ]
  },
  {
   "cell_type": "markdown",
   "id": "51db20ed",
   "metadata": {},
   "source": [
    ">  1.\tFinish calculating the information gain for the remaining features in the classroom example, so Temperature, Humidity and Windy.\n"
   ]
  },
  {
   "cell_type": "code",
   "execution_count": 13,
   "id": "28c05058-fd63-40d4-9cf7-3c9838d0a4d4",
   "metadata": {},
   "outputs": [],
   "source": [
    "data = pd.DataFrame({\n",
    "    'Outlook': ['Sunny', 'Sunny', 'Overcast', 'Rainy', 'Rainy', 'Rainy', 'Overcast', 'Sunny', 'Sunny', 'Rainy',\n",
    "                'Sunny', 'Overcast', 'Overcast', 'Rainy'],\n",
    "    'Temperature': ['Hot', 'Hot', 'Hot', 'Mild', 'Cool', 'Cool', 'Cool', 'Mild', 'Cool', 'Mild',\n",
    "                    'Mild', 'Mild', 'Hot', 'Mild'],\n",
    "    'Humidity': ['High', 'High', 'High', 'High', 'Normal', 'Normal', 'Normal', 'High', 'Normal', 'Normal',\n",
    "                 'Normal', 'High', 'Normal', 'High'],\n",
    "    'Windy': [False, True, False, False, False, True, True, False, False, False, True, True, False, True],\n",
    "    'PlayTennis': ['No', 'No', 'Yes', 'Yes', 'Yes', 'No', 'Yes', 'No', 'Yes', 'Yes', 'Yes', 'Yes', 'Yes', 'No']\n",
    "})\n",
    "data\n",
    "df = pd.DataFrame(data)"
   ]
  },
  {
   "cell_type": "code",
   "execution_count": 14,
   "id": "185a7124-4fe6-47ef-baeb-ead9d78ae490",
   "metadata": {},
   "outputs": [
    {
     "name": "stdout",
     "output_type": "stream",
     "text": [
      "PlayTennis\n",
      "Yes    9\n",
      "No     5\n",
      "Name: count, dtype: int64\n"
     ]
    }
   ],
   "source": [
    "target_counts = data['PlayTennis'].value_counts()\n",
    "print(target_counts)"
   ]
  },
  {
   "cell_type": "code",
   "execution_count": 15,
   "id": "c334eed4-0902-4500-9f98-cfbf63579105",
   "metadata": {},
   "outputs": [
    {
     "name": "stdout",
     "output_type": "stream",
     "text": [
      "Total entropy PlayTennis 0.940285958670631\n",
      "************************* HOT *************************\n",
      "play Tennis count PlayTennis\n",
      "No     2\n",
      "Yes    2\n",
      "Name: count, dtype: int64\n",
      "Entropy : 1.0\n",
      "average of hot entropy  0.2857142857142857\n",
      "************************* MILD *************************\n",
      "play Tennis count PlayTennis\n",
      "Yes    4\n",
      "No     2\n",
      "Name: count, dtype: int64\n",
      "Entropy : 0.9182958340544894\n",
      "average of Mild entropy  0.39355535745192405\n",
      "************************* COOL *************************\n",
      "play Tennis count PlayTennis\n",
      "Yes    3\n",
      "No     1\n",
      "Name: count, dtype: int64\n",
      "Entropy : 0.8112781244591328\n",
      "average of Cool entropy  0.23179374984546652\n",
      "************************* Total Average *************************\n",
      "average entropy  0.9110633930116763\n",
      "************************* Information Gained Entropy *************************\n",
      "Information Gained Entropy 0.029222565658954758\n"
     ]
    }
   ],
   "source": [
    "target_counts = df['PlayTennis'].value_counts()\n",
    "tot_entropy = entropy(target_counts, base=2) \n",
    "print(f'Total entropy PlayTennis {tot_entropy}')\n",
    "\n",
    "\n",
    "print('*'*25 ,'HOT','*'*25 )\n",
    "hot_df = df[df['Temperature'] == 'Hot']\n",
    "hot_counts = hot_df['PlayTennis'].value_counts()\n",
    "hot_entropy = entropy(hot_counts, base=2)\n",
    "average_hot_entropy = (len(hot_df) / len(df)) * hot_entropy\n",
    "print(f'play Tennis count {hot_counts}')\n",
    "print(f\"Entropy : {hot_entropy}\")\n",
    "print(f'average of hot entropy  {average_hot_entropy}')\n",
    "\n",
    "print('*'*25 ,'MILD','*'*25 )\n",
    "Mild_df = df[df['Temperature'] == 'Mild']\n",
    "Mild_counts = Mild_df['PlayTennis'].value_counts()\n",
    "Mild_entropy = entropy(Mild_counts, base=2)\n",
    "average_Mild_entropy = (len(Mild_df) / len(df)) * Mild_entropy\n",
    "print(f'play Tennis count {Mild_counts}')\n",
    "print(f\"Entropy : {Mild_entropy}\")\n",
    "print(f'average of Mild entropy  {average_Mild_entropy}')\n",
    "\n",
    "print('*'*25 ,'COOL','*'*25 )\n",
    "Cool_df = df[df['Temperature'] == 'Cool']\n",
    "Cool_counts = Cool_df['PlayTennis'].value_counts()\n",
    "Cool_entropy = entropy(Cool_counts, base=2)\n",
    "average_Cool_entropy = (len(Cool_df) / len(df)) * Cool_entropy\n",
    "print(f'play Tennis count {Cool_counts}')\n",
    "print(f\"Entropy : {Cool_entropy}\")\n",
    "print(f'average of Cool entropy  {average_Cool_entropy}')\n",
    "\n",
    "print('*'*25 ,'Total Average','*'*25 )\n",
    "ave_entropy = average_hot_entropy +average_Mild_entropy +average_Cool_entropy\n",
    "print(f'average entropy  {ave_entropy}')\n",
    "print('*'*25 ,'Information Gained Entropy','*'*25 )\n",
    "info_gain_temp = tot_entropy - ave_entropy\n",
    "print(f'Information Gained Entropy {info_gain_temp}')"
   ]
  },
  {
   "cell_type": "markdown",
   "id": "b8f155fc-20f9-466c-9ecd-9a3b697229fd",
   "metadata": {},
   "source": [
    ">  2.\tFor a data set with 15 features what is the upper bound for the entropy? The unit for Information Theoretic entropy (base 2 log) is the bit.\n"
   ]
  },
  {
   "cell_type": "code",
   "execution_count": 16,
   "id": "7c888228-2563-45af-8da3-3e78647f57af",
   "metadata": {},
   "outputs": [
    {
     "name": "stdout",
     "output_type": "stream",
     "text": [
      "15 features what is the upper bound for the entropy 3.9068905956085187\n"
     ]
    }
   ],
   "source": [
    "n_features = 15\n",
    "upper_entropy = math.log2(n_features)\n",
    "print(f'15 features what is the upper bound for the entropy {upper_entropy}')"
   ]
  },
  {
   "cell_type": "markdown",
   "id": "63d79058-fec8-4c3b-9b11-90651f115350",
   "metadata": {},
   "source": [
    ">  3.\tWrite Python code to create a bar chart representing the class distribution on the x-axis and entropy values on the y-axis for the following class distributions:  [1.0, 0.0], [0.9, 0.1], [0.8, 0.2], ..., [0.2, 0.8], [0.1, 0.9], [0.0, 1.0]\n",
    "\n"
   ]
  },
  {
   "cell_type": "code",
   "execution_count": null,
   "id": "e67160f2-736c-4314-a0d7-23fb785a70ed",
   "metadata": {},
   "outputs": [],
   "source": []
  },
  {
   "cell_type": "code",
   "execution_count": 21,
   "id": "2fd9dd25-64b0-4384-8d47-869504c9d391",
   "metadata": {},
   "outputs": [
    {
     "data": {
      "image/png": "[encoded data removed]",
      "text/plain": [
       "<Figure size 800x500 with 1 Axes>"
      ]
     },
     "metadata": {},
     "output_type": "display_data"
    }
   ],
   "source": [
    "range_values = np.arange(1, -0.1, -0.1)\n",
    "entropy_values = [entropy([n, 1-n], base=2) for n in range_values]\n",
    "\n",
    "plt.figure(figsize=(8, 5))\n",
    "plt.bar([f\"{n:.1f}, {1-n:.1f}\" for n in range_values], entropy_values, color='green')\n",
    "\n",
    "# Add labels and title\n",
    "plt.xlabel('Class Distributions')\n",
    "plt.ylabel('Entropy')\n",
    "plt.title('Entropy for Class Distributions')\n",
    "\n",
    "# Rotate the labels of the x-axis vertically\n",
    "plt.xticks(rotation=90)\n",
    "\n",
    "# Show the plot\n",
    "plt.tight_layout()\n",
    "plt.show()"
   ]
  },
  {
   "cell_type": "markdown",
   "id": "3a91caf7-1966-4067-a098-c9147486fecf",
   "metadata": {},
   "source": [
    ">  4.   You are working with a dataset that has 3 classes: A, B, and C, with the following distribution:\n",
    "\r",
    "* Class A: 40 samples\n",
    "* Class B: 35 samples\n",
    "* Class C: 25 samples. \n",
    "Calculate the Gini impurity for this dataset.et.\r\n"
   ]
  },
  {
   "cell_type": "markdown",
   "id": "4c5e4aff-dbe9-4aaa-ab1d-e562ce9e7891",
   "metadata": {},
   "source": [
    "Total Samples = 40 + 35 + 25 = 100\r\n",
    "\r\n",
    "\r\n",
    "Gini Impurity for this node would be:\r\n",
    "\r\n",
    "Class A proportion = 40/100 = 0.4\r\n",
    "Class B proportion = 35/100 = 0.35\r\n",
    "Class C proportion = 25/100 = 0.25\r\n",
    "Gini Formula\r\n",
    "1 - ((Class A proportion)^2 + (Class B proportion)^2 + (Class C proportion)^2)"
   ]
  },
  {
   "cell_type": "code",
   "execution_count": 22,
   "id": "db07c0a1",
   "metadata": {},
   "outputs": [
    {
     "name": "stdout",
     "output_type": "stream",
     "text": [
      "Gini Impurity for this node: 0.655\n"
     ]
    }
   ],
   "source": [
    "# Gini Caluclation\n",
    "gini = 1 - ((40/100)**2 + (35/100)**2 + (25/100)**2)\n",
    "print(f\"Gini Impurity for this node: {gini}\")"
   ]
  },
  {
   "cell_type": "code",
   "execution_count": null,
   "id": "2f241b1f-54d2-4949-8c72-3c8ac69c58ae",
   "metadata": {},
   "outputs": [],
   "source": []
  }
 ],
 "metadata": {
  "kernelspec": {
   "display_name": "Python 3 (ipykernel)",
   "language": "python",
   "name": "python3"
  },
  "language_info": {
   "codemirror_mode": {
    "name": "ipython",
    "version": 3
   },
   "file_extension": ".py",
   "mimetype": "text/x-python",
   "name": "python",
   "nbconvert_exporter": "python",
   "pygments_lexer": "ipython3",
   "version": "3.8.20"
  }
 },
 "nbformat": 4,
 "nbformat_minor": 5
}
