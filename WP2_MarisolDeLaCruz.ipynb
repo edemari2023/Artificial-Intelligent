{
 "cells": [
  {
   "cell_type": "markdown",
   "id": "687a8335",
   "metadata": {},
   "source": [
    "## Work_Period_2 Marisol De La Cruz"
   ]
  },
  {
   "cell_type": "code",
   "execution_count": 26,
   "id": "54d74c04-71c6-450a-883d-5153522894e1",
   "metadata": {
    "tags": []
   },
   "outputs": [],
   "source": [
    "import pandas as pd\n",
    "from sklearn.metrics import *\n",
    "import matplotlib.pyplot as plt\n",
    "import numpy as np"
   ]
  },
  {
   "cell_type": "markdown",
   "id": "e42f92aa",
   "metadata": {},
   "source": [
    "1.\tWrite a Python function create_confusion_matrix(actual, predicted) that takes two lists of integers (actual and predicted) representing the true and predicted labels of a binary classification problem. The function should return a confusion matrix as a 2x2 nested list in the format: [TP, FN], [FP, TN]"
   ]
  },
  {
   "cell_type": "code",
   "execution_count": 27,
   "id": "4b15b3cb",
   "metadata": {},
   "outputs": [
    {
     "name": "stdout",
     "output_type": "stream",
     "text": [
      "Confusion Matrix:\n",
      "[[TP: 6, FN: 2], [FP: 1, TN: 5]]\n",
      "Confusion Matrix: [[6, 2], [1, 5]]\n"
     ]
    }
   ],
   "source": [
    "def create_confusion_matrix(actual, predicted):\n",
    "    \n",
    "    TP = FN = FP = TN = 0\n",
    "    \n",
    "  \n",
    "    for a, p in zip(actual, predicted):\n",
    "        if a == 1 and p == 1:\n",
    "            TP += 1  # True Positive\n",
    "        elif a == 0 and p == 0:\n",
    "            TN += 1  # True Negative\n",
    "        elif a == 1 and p == 0:\n",
    "            FN += 1  # False Negative\n",
    "        elif a == 0 and p == 1:\n",
    "            FP += 1  # False positive\n",
    "\n",
    "    \n",
    "    return [[TP, FN], [FP, TN]]\n",
    "\n",
    "\n",
    "actual_classes = pd.Series([1, 0, 1, 1, 0, 1, 0, 1, 0, 0, 1, 1, 0, 1])\n",
    "predicted_classes = pd.Series([1, 0, 1, 0, 0, 1, 0, 1, 0, 1, 0, 1, 0, 1])\n",
    "\n",
    "\n",
    "confusion_matrix = create_confusion_matrix(actual_classes, predicted_classes)\n",
    "\n",
    "TP = confusion_matrix[0][0]\n",
    "FN = confusion_matrix[0][1]\n",
    "FP = confusion_matrix[1][0]\n",
    "TN = confusion_matrix[1][1]\n",
    "\n",
    "print(\"Confusion Matrix:\")\n",
    "print(f\"[[TP: {TP}, FN: {FN}], [FP: {FP}, TN: {TN}]]\")\n",
    "\n",
    "print(\"Confusion Matrix:\", confusion_matrix)\n"
   ]
  },
  {
   "cell_type": "markdown",
   "id": "c52dc0d0",
   "metadata": {},
   "source": [
    "2.\tUsing the confusion matrix obtained from the first problem, write a Python function calculate_accuracy(matrix) that calculates and returns the accuracy of the classification model. Test your function using the confusion matrix from Problem 1"
   ]
  },
  {
   "cell_type": "markdown",
   "id": "03855c0c",
   "metadata": {},
   "source": [
    "> Accuracy= (Total Number of Predictions)/(Number of Correct Predictions)\n",
    "\n",
    " > = (TP+TN)/(TP+TN+FP+FN)\n",
    "\n",
    ">  Where:\n",
    "\n",
    "> * TP = True Positives (correctly predicted positive cases)\n",
    "> * TN = True Negatives (correctly predicted negative cases)\n",
    "> * FP = False Positives (incorrectly predicted positive cases)\n",
    "> * FN = False Negatives (incorrectly predicted negative cases)"
   ]
  },
  {
   "cell_type": "code",
   "execution_count": 28,
   "id": "35860128",
   "metadata": {},
   "outputs": [
    {
     "name": "stdout",
     "output_type": "stream",
     "text": [
      "Accuracy: 0.7857142857142857\n"
     ]
    }
   ],
   "source": [
    "def calculate_accuracy(matrix):\n",
    "    # Extraer valores de la matriz de confusión\n",
    "    TP = matrix[0][0]\n",
    "    FN = matrix[0][1]\n",
    "    FP = matrix[1][0]\n",
    "    TN = matrix[1][1]\n",
    "    \n",
    "    accuracy = (TP + TN) / (TP + TN + FP + FN)\n",
    "    \n",
    "    return accuracy\n",
    "\n",
    "confusion_matrix = [[6, 2], [1, 5]]\n",
    "\n",
    "accuracy = calculate_accuracy(confusion_matrix)\n",
    "print(f\"Accuracy: {accuracy}\")\n"
   ]
  },
  {
   "cell_type": "markdown",
   "id": "4deb3ce4",
   "metadata": {},
   "source": [
    "3.\tWrite a Python function calculate_precision_recall(matrix) that takes a confusion matrix as input and returns the precision and recall of the classification model. "
   ]
  },
  {
   "cell_type": "markdown",
   "id": "6834d6cc",
   "metadata": {},
   "source": [
    "> * Precision= (True Positives (TP)) / (True Positives (TP) + False Positives (FP))"
   ]
  },
  {
   "cell_type": "markdown",
   "id": "8310a60e",
   "metadata": {},
   "source": [
    "> **Recall** = (True Positives)/(True Positives + False Negatives)\n",
    "\n",
    "Where:\n",
    "- \\( TP \\) = True Positives\n",
    "- \\( FN \\) = False Negatives\n"
   ]
  },
  {
   "cell_type": "code",
   "execution_count": 29,
   "id": "045e540a",
   "metadata": {},
   "outputs": [
    {
     "name": "stdout",
     "output_type": "stream",
     "text": [
      "Precision: 0.8571428571428571\n",
      "Recall: 0.75\n"
     ]
    }
   ],
   "source": [
    "def calculate_precision_recall(matrix):\n",
    "    # Extraer valores de la matriz de confusión\n",
    "    TP = matrix[0][0]\n",
    "    FN = matrix[0][1]\n",
    "    FP = matrix[1][0]\n",
    "    TN = matrix[1][1]\n",
    "    \n",
    "  \n",
    "    precision = TP / (TP + FP) if (TP + FP) != 0 else 0\n",
    "    recall = TP / (TP + FN) if (TP + FN) != 0 else 0\n",
    "    \n",
    "    return precision, recall\n",
    "\n",
    "confusion_matrix = [[6, 2], [1, 5]]\n",
    "\n",
    "precision, recall = calculate_precision_recall(confusion_matrix)\n",
    "print(f\"Precision: {precision}\")\n",
    "print(f\"Recall: {recall}\")\n"
   ]
  },
  {
   "cell_type": "markdown",
   "id": "729515b2",
   "metadata": {},
   "source": [
    "4.\tCreate a function calculate_f1_score(matrix) that computes the F1 score based on the confusion matrix. Use the confusion matrix and the results from Problem 3 to test your function."
   ]
  },
  {
   "cell_type": "markdown",
   "id": "1e22faf6",
   "metadata": {},
   "source": [
    "> F1=   2 × ( Precision × Recall) / (Precision + Recall)"
   ]
  },
  {
   "cell_type": "code",
   "execution_count": 30,
   "id": "df571303",
   "metadata": {},
   "outputs": [
    {
     "name": "stdout",
     "output_type": "stream",
     "text": [
      "F1 Score: 0.7999999999999999\n"
     ]
    }
   ],
   "source": [
    "def calculate_f1_score(matrix):\n",
    "    # Extract True Positives (TP), False Negatives (FN), False Positives (FP), True Negatives (TN)\n",
    "    TP = matrix[0][0]\n",
    "    FN = matrix[0][1]\n",
    "    FP = matrix[1][0]\n",
    "    TN = matrix[1][1]\n",
    "    \n",
    "    # Calculate precision and recall\n",
    "    precision = TP / (TP + FP) if (TP + FP) != 0 else 0\n",
    "    recall = TP / (TP + FN) if (TP + FN) != 0 else 0\n",
    "    \n",
    "    # Calculate F1 score\n",
    "    if (precision + recall) == 0:\n",
    "        return 0\n",
    "    f1_score = 2 * (precision * recall) / (precision + recall)\n",
    "    \n",
    "    return f1_score\n",
    "\n",
    "# Example usage: confusion matrix from previous exercises\n",
    "confusion_matrix = [[6, 2], [1, 5]]  # Example confusion matrix\n",
    "f1 = calculate_f1_score(confusion_matrix)\n",
    "print(f\"F1 Score: {f1}\")"
   ]
  },
  {
   "cell_type": "markdown",
   "id": "1cc1ae75",
   "metadata": {},
   "source": [
    "5.\tWrite a Python script to visualize a confusion matrix using the matplotlib library. Create a function plot_confusion_matrix(matrix) that takes a confusion matrix and plots it using matplotlib. Label the axes as \"Predicted\" and \"Actual\", and add the TP, FP, FN, and TN values inside the cells. Use the confusion matrix from Problem 1 as input."
   ]
  },
  {
   "cell_type": "code",
   "execution_count": 31,
   "id": "19d5cc78",
   "metadata": {},
   "outputs": [
    {
     "data": {
      "image/png": "[encoded data removed]",
      "text/plain": [
       "<Figure size 640x480 with 2 Axes>"
      ]
     },
     "metadata": {},
     "output_type": "display_data"
    }
   ],
   "source": [
    "def plot_confusion_matrix(matrix):\n",
    "    # Create the figure\n",
    "    fig, ax = plt.subplots()\n",
    "\n",
    "    # Set the axis labels\n",
    "    ax.set_xlabel('Predicted', fontsize=12)\n",
    "    ax.set_ylabel('Actual', fontsize=12)\n",
    "\n",
    "    # Create the matrix heatmap\n",
    "    cax = ax.matshow(matrix, cmap=plt.cm.Blues)\n",
    "\n",
    "    # Add color bar\n",
    "    fig.colorbar(cax)\n",
    "\n",
    "    # Add values inside the cells\n",
    "    for (i, j), val in np.ndenumerate(matrix):\n",
    "        ax.text(j, i, f'{val}', ha='center', va='center', fontsize=16)\n",
    "\n",
    "    # Adjust axis labels\n",
    "    ax.set_xticks([0, 1])\n",
    "    ax.set_xticklabels(['Positive', 'Negative'])\n",
    "    ax.set_yticks([0, 1])\n",
    "    ax.set_yticklabels(['Positive', 'Negative'])\n",
    "\n",
    "    # Show the plot\n",
    "    plt.show()\n",
    "\n",
    "# Confusion matrix [TP, FN], [FP, TN] = [6, 2], [1, 5]\n",
    "confusion_matrix = np.array([[6, 2], [1, 5]])\n",
    "\n",
    "# Call the function to visualize the matrix\n",
    "plot_confusion_matrix(confusion_matrix)\n"
   ]
  },
  {
   "cell_type": "code",
   "execution_count": null,
   "id": "53baad46",
   "metadata": {},
   "outputs": [],
   "source": []
  }
 ],
 "metadata": {
  "kernelspec": {
   "display_name": "Python 3",
   "language": "python",
   "name": "python3"
  },
  "language_info": {
   "codemirror_mode": {
    "name": "ipython",
    "version": 3
   },
   "file_extension": ".py",
   "mimetype": "text/x-python",
   "name": "python",
   "nbconvert_exporter": "python",
   "pygments_lexer": "ipython3",
   "version": "3.7.1"
  }
 },
 "nbformat": 4,
 "nbformat_minor": 5
}
